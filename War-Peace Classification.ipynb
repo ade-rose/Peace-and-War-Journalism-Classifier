{
 "cells": [
  {
   "cell_type": "code",
   "execution_count": 25,
   "metadata": {},
   "outputs": [],
   "source": [
    "import pandas as pd\n",
    "import numpy as np\n",
    "import pickle\n",
    "import nltk\n",
    "import string\n",
    "import re\n",
    "from sklearn.preprocessing import LabelEncoder\n",
    "from sklearn.feature_extraction.text import CountVectorizer\n",
    "from nltk.stem import PorterStemmer"
   ]
  },
  {
   "cell_type": "code",
   "execution_count": 26,
   "metadata": {},
   "outputs": [
    {
     "output_type": "execute_result",
     "data": {
      "text/plain": [
       "             Class  Galtung Encoded\n",
       "count  3026.000000      3026.000000\n",
       "mean      0.590218         3.983807\n",
       "std       0.491875         1.733311\n",
       "min       0.000000         0.000000\n",
       "25%       0.000000         3.000000\n",
       "50%       1.000000         5.000000\n",
       "75%       1.000000         5.000000\n",
       "max       1.000000         7.000000"
      ],
      "text/html": "<div>\n<style scoped>\n    .dataframe tbody tr th:only-of-type {\n        vertical-align: middle;\n    }\n\n    .dataframe tbody tr th {\n        vertical-align: top;\n    }\n\n    .dataframe thead th {\n        text-align: right;\n    }\n</style>\n<table border=\"1\" class=\"dataframe\">\n  <thead>\n    <tr style=\"text-align: right;\">\n      <th></th>\n      <th>Class</th>\n      <th>Galtung Encoded</th>\n    </tr>\n  </thead>\n  <tbody>\n    <tr>\n      <th>count</th>\n      <td>3026.000000</td>\n      <td>3026.000000</td>\n    </tr>\n    <tr>\n      <th>mean</th>\n      <td>0.590218</td>\n      <td>3.983807</td>\n    </tr>\n    <tr>\n      <th>std</th>\n      <td>0.491875</td>\n      <td>1.733311</td>\n    </tr>\n    <tr>\n      <th>min</th>\n      <td>0.000000</td>\n      <td>0.000000</td>\n    </tr>\n    <tr>\n      <th>25%</th>\n      <td>0.000000</td>\n      <td>3.000000</td>\n    </tr>\n    <tr>\n      <th>50%</th>\n      <td>1.000000</td>\n      <td>5.000000</td>\n    </tr>\n    <tr>\n      <th>75%</th>\n      <td>1.000000</td>\n      <td>5.000000</td>\n    </tr>\n    <tr>\n      <th>max</th>\n      <td>1.000000</td>\n      <td>7.000000</td>\n    </tr>\n  </tbody>\n</table>\n</div>"
     },
     "metadata": {},
     "execution_count": 26
    }
   ],
   "source": [
    "dataFrame = pd.read_csv(\"/Users/Oyewole Salami/Documents/WarPeaceModel/War_Peace_Dataset.csv\", sep =\",\")\n",
    "#df = dataFrame.sample(frac = 1)\n",
    "labelEn = LabelEncoder()\n",
    "df['Class'] = labelEn.fit_transform(df['Class'])\n",
    "df[\"Galtung Encoded\"] = labelEn.fit_transform(df[\"Galtung's Criteria\"])\n",
    "df.describe()"
   ]
  },
  {
   "cell_type": "code",
   "execution_count": null,
   "metadata": {},
   "outputs": [],
   "source": []
  },
  {
   "cell_type": "code",
   "execution_count": 27,
   "metadata": {},
   "outputs": [
    {
     "output_type": "execute_result",
     "data": {
      "text/plain": [
       "array(['Focus on invisible effects of violence (trauma and glory, damage to structure/ culture)',\n",
       "       'Focus only on visible effect of violence (killed, wounded and material damage)',\n",
       "       'Focus on conflict arena, 2 parties,  1 goal (win), war general zero-sum orientation.',\n",
       "       'Peace = Victory + Ceasefire', 'Peace = Non-violence + Creativity',\n",
       "       \"Explore conflict formation, x parties, y goals, z issues general 'win, win, orientation'.\",\n",
       "       'Focus on suffering all over. On aged children, women, giving voice to the voiceless.',\n",
       "       \"Focus on 'our' suffering; on able-bodied elite males, being their mouth-piece.\"],\n",
       "      dtype=object)"
      ]
     },
     "metadata": {},
     "execution_count": 27
    }
   ],
   "source": [
    "df[\"Galtung's Criteria\"].unique()"
   ]
  },
  {
   "cell_type": "code",
   "execution_count": 28,
   "metadata": {},
   "outputs": [
    {
     "output_type": "execute_result",
     "data": {
      "text/plain": [
       "array([3, 5, 2, 7, 6, 0, 4, 1])"
      ]
     },
     "metadata": {},
     "execution_count": 28
    }
   ],
   "source": [
    "df[\"Galtung Encoded\"].unique()"
   ]
  },
  {
   "cell_type": "code",
   "execution_count": 29,
   "metadata": {},
   "outputs": [
    {
     "output_type": "execute_result",
     "data": {
      "text/plain": [
       "                                               Headline  \\\n",
       "2140  The Islamic State of Iraq and the Levant (ISIL...   \n",
       "998   The attempted missile strikes is the most seri...   \n",
       "221   Russia is withdrawing its troops from Syria. B...   \n",
       "2070  How football has given these Palestinian amput...   \n",
       "941   There's a large natural gas field just off Gaz...   \n",
       "...                                                 ...   \n",
       "184   British government wins support for air strike...   \n",
       "992   \"Staggering.\" - UN says 21 million Yemenis in ...   \n",
       "1758  BREAKING: Truce in Syria to begin at midnight,...   \n",
       "1687  \"We hope they [ISIL] repent to God and return ...   \n",
       "676   \"People are dying ... the infrastructure is fa...   \n",
       "\n",
       "                                     Galtung's Criteria  Class  \\\n",
       "2140  Focus on invisible effects of violence (trauma...      0   \n",
       "998   Focus only on visible effect of violence (kill...      1   \n",
       "221   Focus on conflict arena, 2 parties,  1 goal (w...      1   \n",
       "2070  Focus on invisible effects of violence (trauma...      0   \n",
       "941   Focus only on visible effect of violence (kill...      1   \n",
       "...                                                 ...    ...   \n",
       "184   Focus on conflict arena, 2 parties,  1 goal (w...      1   \n",
       "992   Focus only on visible effect of violence (kill...      1   \n",
       "1758                        Peace = Victory + Ceasefire      1   \n",
       "1687  Focus only on visible effect of violence (kill...      1   \n",
       "676   Focus only on visible effect of violence (kill...      1   \n",
       "\n",
       "      Galtung Encoded  \n",
       "2140                3  \n",
       "998                 5  \n",
       "221                 2  \n",
       "2070                3  \n",
       "941                 5  \n",
       "...               ...  \n",
       "184                 2  \n",
       "992                 5  \n",
       "1758                7  \n",
       "1687                5  \n",
       "676                 5  \n",
       "\n",
       "[3026 rows x 4 columns]"
      ],
      "text/html": "<div>\n<style scoped>\n    .dataframe tbody tr th:only-of-type {\n        vertical-align: middle;\n    }\n\n    .dataframe tbody tr th {\n        vertical-align: top;\n    }\n\n    .dataframe thead th {\n        text-align: right;\n    }\n</style>\n<table border=\"1\" class=\"dataframe\">\n  <thead>\n    <tr style=\"text-align: right;\">\n      <th></th>\n      <th>Headline</th>\n      <th>Galtung's Criteria</th>\n      <th>Class</th>\n      <th>Galtung Encoded</th>\n    </tr>\n  </thead>\n  <tbody>\n    <tr>\n      <th>2140</th>\n      <td>The Islamic State of Iraq and the Levant (ISIL...</td>\n      <td>Focus on invisible effects of violence (trauma...</td>\n      <td>0</td>\n      <td>3</td>\n    </tr>\n    <tr>\n      <th>998</th>\n      <td>The attempted missile strikes is the most seri...</td>\n      <td>Focus only on visible effect of violence (kill...</td>\n      <td>1</td>\n      <td>5</td>\n    </tr>\n    <tr>\n      <th>221</th>\n      <td>Russia is withdrawing its troops from Syria. B...</td>\n      <td>Focus on conflict arena, 2 parties,  1 goal (w...</td>\n      <td>1</td>\n      <td>2</td>\n    </tr>\n    <tr>\n      <th>2070</th>\n      <td>How football has given these Palestinian amput...</td>\n      <td>Focus on invisible effects of violence (trauma...</td>\n      <td>0</td>\n      <td>3</td>\n    </tr>\n    <tr>\n      <th>941</th>\n      <td>There's a large natural gas field just off Gaz...</td>\n      <td>Focus only on visible effect of violence (kill...</td>\n      <td>1</td>\n      <td>5</td>\n    </tr>\n    <tr>\n      <th>...</th>\n      <td>...</td>\n      <td>...</td>\n      <td>...</td>\n      <td>...</td>\n    </tr>\n    <tr>\n      <th>184</th>\n      <td>British government wins support for air strike...</td>\n      <td>Focus on conflict arena, 2 parties,  1 goal (w...</td>\n      <td>1</td>\n      <td>2</td>\n    </tr>\n    <tr>\n      <th>992</th>\n      <td>\"Staggering.\" - UN says 21 million Yemenis in ...</td>\n      <td>Focus only on visible effect of violence (kill...</td>\n      <td>1</td>\n      <td>5</td>\n    </tr>\n    <tr>\n      <th>1758</th>\n      <td>BREAKING: Truce in Syria to begin at midnight,...</td>\n      <td>Peace = Victory + Ceasefire</td>\n      <td>1</td>\n      <td>7</td>\n    </tr>\n    <tr>\n      <th>1687</th>\n      <td>\"We hope they [ISIL] repent to God and return ...</td>\n      <td>Focus only on visible effect of violence (kill...</td>\n      <td>1</td>\n      <td>5</td>\n    </tr>\n    <tr>\n      <th>676</th>\n      <td>\"People are dying ... the infrastructure is fa...</td>\n      <td>Focus only on visible effect of violence (kill...</td>\n      <td>1</td>\n      <td>5</td>\n    </tr>\n  </tbody>\n</table>\n<p>3026 rows × 4 columns</p>\n</div>"
     },
     "metadata": {},
     "execution_count": 29
    }
   ],
   "source": [
    "df"
   ]
  },
  {
   "cell_type": "markdown",
   "metadata": {},
   "source": [
    "## Where 0 == Peace and 1 == War"
   ]
  },
  {
   "cell_type": "code",
   "execution_count": 4,
   "metadata": {},
   "outputs": [
    {
     "data": {
      "text/plain": [
       "Headline    1621\n",
       "Class       1621\n",
       "dtype: int64"
      ]
     },
     "execution_count": 4,
     "metadata": {},
     "output_type": "execute_result"
    }
   ],
   "source": [
    "#Number of Peace Related News\n",
    "Peace = df.loc[df['Class'] == 0 ].count()\n",
    "Peace"
   ]
  },
  {
   "cell_type": "code",
   "execution_count": 5,
   "metadata": {},
   "outputs": [
    {
     "data": {
      "text/plain": [
       "Headline    1440\n",
       "Class       1440\n",
       "dtype: int64"
      ]
     },
     "execution_count": 5,
     "metadata": {},
     "output_type": "execute_result"
    }
   ],
   "source": [
    "#Number of War Related News\n",
    "War = df.loc[df['Class'] == 1 ].count()\n",
    "War"
   ]
  },
  {
   "cell_type": "code",
   "execution_count": 6,
   "metadata": {},
   "outputs": [
    {
     "data": {
      "text/plain": [
       "1964    False\n",
       "1076    False\n",
       "468     False\n",
       "1822    False\n",
       "1133    False\n",
       "        ...  \n",
       "999     False\n",
       "899     False\n",
       "1403    False\n",
       "889     False\n",
       "148     False\n",
       "Name: Class, Length: 3061, dtype: bool"
      ]
     },
     "execution_count": 6,
     "metadata": {},
     "output_type": "execute_result"
    }
   ],
   "source": [
    "#Missing Values\n",
    "df['Class'].isnull()"
   ]
  },
  {
   "cell_type": "markdown",
   "metadata": {},
   "source": [
    "## Preprocessing"
   ]
  },
  {
   "cell_type": "code",
   "execution_count": 6,
   "metadata": {},
   "outputs": [],
   "source": [
    "#Punctuations\n",
    "def removePunc(news):\n",
    "    newsWithoutPunc = \"\".join([charac for charac in news if charac not in string.punctuation])\n",
    "    return newsWithoutPunc"
   ]
  },
  {
   "cell_type": "code",
   "execution_count": 7,
   "metadata": {},
   "outputs": [
    {
     "output_type": "execute_result",
     "data": {
      "text/plain": [
       "'!\"#$%&\\'()*+,-./:;<=>?@[\\\\]^_`{|}~'"
      ]
     },
     "metadata": {},
     "execution_count": 7
    }
   ],
   "source": [
    "string.punctuation"
   ]
  },
  {
   "cell_type": "code",
   "execution_count": 8,
   "metadata": {},
   "outputs": [
    {
     "output_type": "execute_result",
     "data": {
      "text/plain": [
       "                                               Headline  \\\n",
       "2160  Since Jarablus we have headed west and managed...   \n",
       "283   Yemeni government troops and allies from a Sau...   \n",
       "2677  Whats going on in Syria is a miniworld war Wha...   \n",
       "1596  An Israeli army spokesperson declined to discu...   \n",
       "421   The orders are expected to include restriction...   \n",
       "...                                                 ...   \n",
       "193   While we continue to monitor the terrible situ...   \n",
       "1847  In an interview with Al Jazeera last month Mor...   \n",
       "1303  We wish it hadnt happened but it happened I ho...   \n",
       "2602  The experts from the Thomson Reuters Foundatio...   \n",
       "2567    They get less than 4 hours of electricity a day   \n",
       "\n",
       "                                     Galtung's Criteria  Class  \\\n",
       "2160  Focus on invisible effects of violence (trauma...      0   \n",
       "283   Focus on conflict arena, 2 parties,  1 goal (w...      1   \n",
       "2677  Focus on suffering all over. On aged children,...      0   \n",
       "1596  Focus only on visible effect of violence (kill...      1   \n",
       "421   Focus on conflict arena, 2 parties,  1 goal (w...      1   \n",
       "...                                                 ...    ...   \n",
       "193   Focus on conflict arena, 2 parties,  1 goal (w...      1   \n",
       "1847  Explore conflict formation, x parties, y goals...      0   \n",
       "1303  Focus only on visible effect of violence (kill...      1   \n",
       "2602  Focus on suffering all over. On aged children,...      0   \n",
       "2567  Focus on suffering all over. On aged children,...      0   \n",
       "\n",
       "      Galtung Encoded  \n",
       "2160                3  \n",
       "283                 2  \n",
       "2677                4  \n",
       "1596                5  \n",
       "421                 2  \n",
       "...               ...  \n",
       "193                 2  \n",
       "1847                0  \n",
       "1303                5  \n",
       "2602                4  \n",
       "2567                4  \n",
       "\n",
       "[3026 rows x 4 columns]"
      ],
      "text/html": "<div>\n<style scoped>\n    .dataframe tbody tr th:only-of-type {\n        vertical-align: middle;\n    }\n\n    .dataframe tbody tr th {\n        vertical-align: top;\n    }\n\n    .dataframe thead th {\n        text-align: right;\n    }\n</style>\n<table border=\"1\" class=\"dataframe\">\n  <thead>\n    <tr style=\"text-align: right;\">\n      <th></th>\n      <th>Headline</th>\n      <th>Galtung's Criteria</th>\n      <th>Class</th>\n      <th>Galtung Encoded</th>\n    </tr>\n  </thead>\n  <tbody>\n    <tr>\n      <th>2160</th>\n      <td>Since Jarablus we have headed west and managed...</td>\n      <td>Focus on invisible effects of violence (trauma...</td>\n      <td>0</td>\n      <td>3</td>\n    </tr>\n    <tr>\n      <th>283</th>\n      <td>Yemeni government troops and allies from a Sau...</td>\n      <td>Focus on conflict arena, 2 parties,  1 goal (w...</td>\n      <td>1</td>\n      <td>2</td>\n    </tr>\n    <tr>\n      <th>2677</th>\n      <td>Whats going on in Syria is a miniworld war Wha...</td>\n      <td>Focus on suffering all over. On aged children,...</td>\n      <td>0</td>\n      <td>4</td>\n    </tr>\n    <tr>\n      <th>1596</th>\n      <td>An Israeli army spokesperson declined to discu...</td>\n      <td>Focus only on visible effect of violence (kill...</td>\n      <td>1</td>\n      <td>5</td>\n    </tr>\n    <tr>\n      <th>421</th>\n      <td>The orders are expected to include restriction...</td>\n      <td>Focus on conflict arena, 2 parties,  1 goal (w...</td>\n      <td>1</td>\n      <td>2</td>\n    </tr>\n    <tr>\n      <th>...</th>\n      <td>...</td>\n      <td>...</td>\n      <td>...</td>\n      <td>...</td>\n    </tr>\n    <tr>\n      <th>193</th>\n      <td>While we continue to monitor the terrible situ...</td>\n      <td>Focus on conflict arena, 2 parties,  1 goal (w...</td>\n      <td>1</td>\n      <td>2</td>\n    </tr>\n    <tr>\n      <th>1847</th>\n      <td>In an interview with Al Jazeera last month Mor...</td>\n      <td>Explore conflict formation, x parties, y goals...</td>\n      <td>0</td>\n      <td>0</td>\n    </tr>\n    <tr>\n      <th>1303</th>\n      <td>We wish it hadnt happened but it happened I ho...</td>\n      <td>Focus only on visible effect of violence (kill...</td>\n      <td>1</td>\n      <td>5</td>\n    </tr>\n    <tr>\n      <th>2602</th>\n      <td>The experts from the Thomson Reuters Foundatio...</td>\n      <td>Focus on suffering all over. On aged children,...</td>\n      <td>0</td>\n      <td>4</td>\n    </tr>\n    <tr>\n      <th>2567</th>\n      <td>They get less than 4 hours of electricity a day</td>\n      <td>Focus on suffering all over. On aged children,...</td>\n      <td>0</td>\n      <td>4</td>\n    </tr>\n  </tbody>\n</table>\n<p>3026 rows × 4 columns</p>\n</div>"
     },
     "metadata": {},
     "execution_count": 8
    }
   ],
   "source": [
    "df['Headline'] = df['Headline'].apply(lambda news: removePunc(news))\n",
    "df"
   ]
  },
  {
   "cell_type": "code",
   "execution_count": 9,
   "metadata": {},
   "outputs": [
    {
     "output_type": "execute_result",
     "data": {
      "text/plain": [
       "                                               Headline  \\\n",
       "2160  Since Jarablus we have headed west and managed...   \n",
       "283   Yemeni government troops and allies from a Sau...   \n",
       "2677  Whats going on in Syria is a miniworld war Wha...   \n",
       "1596  An Israeli army spokesperson declined to discu...   \n",
       "421   The orders are expected to include restriction...   \n",
       "...                                                 ...   \n",
       "193   While we continue to monitor the terrible situ...   \n",
       "1847  In an interview with Al Jazeera last month Mor...   \n",
       "1303  We wish it hadnt happened but it happened I ho...   \n",
       "2602  The experts from the Thomson Reuters Foundatio...   \n",
       "2567    They get less than 4 hours of electricity a day   \n",
       "\n",
       "                                     Galtung's Criteria  Class  \\\n",
       "2160  Focus on invisible effects of violence (trauma...      0   \n",
       "283   Focus on conflict arena, 2 parties,  1 goal (w...      1   \n",
       "2677  Focus on suffering all over. On aged children,...      0   \n",
       "1596  Focus only on visible effect of violence (kill...      1   \n",
       "421   Focus on conflict arena, 2 parties,  1 goal (w...      1   \n",
       "...                                                 ...    ...   \n",
       "193   Focus on conflict arena, 2 parties,  1 goal (w...      1   \n",
       "1847  Explore conflict formation, x parties, y goals...      0   \n",
       "1303  Focus only on visible effect of violence (kill...      1   \n",
       "2602  Focus on suffering all over. On aged children,...      0   \n",
       "2567  Focus on suffering all over. On aged children,...      0   \n",
       "\n",
       "      Galtung Encoded                                  tokenizedHeadline  \n",
       "2160                3  [since, jarablus, we, have, headed, west, and,...  \n",
       "283                 2  [yemeni, government, troops, and, allies, from...  \n",
       "2677                4  [whats, going, on, in, syria, is, a, miniworld...  \n",
       "1596                5  [an, israeli, army, spokesperson, declined, to...  \n",
       "421                 2  [the, orders, are, expected, to, include, rest...  \n",
       "...               ...                                                ...  \n",
       "193                 2  [while, we, continue, to, monitor, the, terrib...  \n",
       "1847                0  [in, an, interview, with, al, jazeera, last, m...  \n",
       "1303                5  [we, wish, it, hadnt, happened, but, it, happe...  \n",
       "2602                4  [the, experts, from, the, thomson, reuters, fo...  \n",
       "2567                4  [they, get, less, than, 4, hours, of, electric...  \n",
       "\n",
       "[3026 rows x 5 columns]"
      ],
      "text/html": "<div>\n<style scoped>\n    .dataframe tbody tr th:only-of-type {\n        vertical-align: middle;\n    }\n\n    .dataframe tbody tr th {\n        vertical-align: top;\n    }\n\n    .dataframe thead th {\n        text-align: right;\n    }\n</style>\n<table border=\"1\" class=\"dataframe\">\n  <thead>\n    <tr style=\"text-align: right;\">\n      <th></th>\n      <th>Headline</th>\n      <th>Galtung's Criteria</th>\n      <th>Class</th>\n      <th>Galtung Encoded</th>\n      <th>tokenizedHeadline</th>\n    </tr>\n  </thead>\n  <tbody>\n    <tr>\n      <th>2160</th>\n      <td>Since Jarablus we have headed west and managed...</td>\n      <td>Focus on invisible effects of violence (trauma...</td>\n      <td>0</td>\n      <td>3</td>\n      <td>[since, jarablus, we, have, headed, west, and,...</td>\n    </tr>\n    <tr>\n      <th>283</th>\n      <td>Yemeni government troops and allies from a Sau...</td>\n      <td>Focus on conflict arena, 2 parties,  1 goal (w...</td>\n      <td>1</td>\n      <td>2</td>\n      <td>[yemeni, government, troops, and, allies, from...</td>\n    </tr>\n    <tr>\n      <th>2677</th>\n      <td>Whats going on in Syria is a miniworld war Wha...</td>\n      <td>Focus on suffering all over. On aged children,...</td>\n      <td>0</td>\n      <td>4</td>\n      <td>[whats, going, on, in, syria, is, a, miniworld...</td>\n    </tr>\n    <tr>\n      <th>1596</th>\n      <td>An Israeli army spokesperson declined to discu...</td>\n      <td>Focus only on visible effect of violence (kill...</td>\n      <td>1</td>\n      <td>5</td>\n      <td>[an, israeli, army, spokesperson, declined, to...</td>\n    </tr>\n    <tr>\n      <th>421</th>\n      <td>The orders are expected to include restriction...</td>\n      <td>Focus on conflict arena, 2 parties,  1 goal (w...</td>\n      <td>1</td>\n      <td>2</td>\n      <td>[the, orders, are, expected, to, include, rest...</td>\n    </tr>\n    <tr>\n      <th>...</th>\n      <td>...</td>\n      <td>...</td>\n      <td>...</td>\n      <td>...</td>\n      <td>...</td>\n    </tr>\n    <tr>\n      <th>193</th>\n      <td>While we continue to monitor the terrible situ...</td>\n      <td>Focus on conflict arena, 2 parties,  1 goal (w...</td>\n      <td>1</td>\n      <td>2</td>\n      <td>[while, we, continue, to, monitor, the, terrib...</td>\n    </tr>\n    <tr>\n      <th>1847</th>\n      <td>In an interview with Al Jazeera last month Mor...</td>\n      <td>Explore conflict formation, x parties, y goals...</td>\n      <td>0</td>\n      <td>0</td>\n      <td>[in, an, interview, with, al, jazeera, last, m...</td>\n    </tr>\n    <tr>\n      <th>1303</th>\n      <td>We wish it hadnt happened but it happened I ho...</td>\n      <td>Focus only on visible effect of violence (kill...</td>\n      <td>1</td>\n      <td>5</td>\n      <td>[we, wish, it, hadnt, happened, but, it, happe...</td>\n    </tr>\n    <tr>\n      <th>2602</th>\n      <td>The experts from the Thomson Reuters Foundatio...</td>\n      <td>Focus on suffering all over. On aged children,...</td>\n      <td>0</td>\n      <td>4</td>\n      <td>[the, experts, from, the, thomson, reuters, fo...</td>\n    </tr>\n    <tr>\n      <th>2567</th>\n      <td>They get less than 4 hours of electricity a day</td>\n      <td>Focus on suffering all over. On aged children,...</td>\n      <td>0</td>\n      <td>4</td>\n      <td>[they, get, less, than, 4, hours, of, electric...</td>\n    </tr>\n  </tbody>\n</table>\n<p>3026 rows × 5 columns</p>\n</div>"
     },
     "metadata": {},
     "execution_count": 9
    }
   ],
   "source": [
    "#Tokenization\n",
    "def tokenize(news):\n",
    "    tokens = re.split('\\W+', news)\n",
    "    return tokens\n",
    "\n",
    "df['tokenizedHeadline'] = df['Headline'].apply(lambda words: tokenize(words.lower()))\n",
    "df"
   ]
  },
  {
   "cell_type": "code",
   "execution_count": 10,
   "metadata": {},
   "outputs": [
    {
     "output_type": "execute_result",
     "data": {
      "text/plain": [
       "                                               Headline  \\\n",
       "2160  Since Jarablus we have headed west and managed...   \n",
       "283   Yemeni government troops and allies from a Sau...   \n",
       "2677  Whats going on in Syria is a miniworld war Wha...   \n",
       "1596  An Israeli army spokesperson declined to discu...   \n",
       "421   The orders are expected to include restriction...   \n",
       "...                                                 ...   \n",
       "193   While we continue to monitor the terrible situ...   \n",
       "1847  In an interview with Al Jazeera last month Mor...   \n",
       "1303  We wish it hadnt happened but it happened I ho...   \n",
       "2602  The experts from the Thomson Reuters Foundatio...   \n",
       "2567    They get less than 4 hours of electricity a day   \n",
       "\n",
       "                                     Galtung's Criteria  Class  \\\n",
       "2160  Focus on invisible effects of violence (trauma...      0   \n",
       "283   Focus on conflict arena, 2 parties,  1 goal (w...      1   \n",
       "2677  Focus on suffering all over. On aged children,...      0   \n",
       "1596  Focus only on visible effect of violence (kill...      1   \n",
       "421   Focus on conflict arena, 2 parties,  1 goal (w...      1   \n",
       "...                                                 ...    ...   \n",
       "193   Focus on conflict arena, 2 parties,  1 goal (w...      1   \n",
       "1847  Explore conflict formation, x parties, y goals...      0   \n",
       "1303  Focus only on visible effect of violence (kill...      1   \n",
       "2602  Focus on suffering all over. On aged children,...      0   \n",
       "2567  Focus on suffering all over. On aged children,...      0   \n",
       "\n",
       "      Galtung Encoded                                  tokenizedHeadline  \\\n",
       "2160                3  [since, jarablus, we, have, headed, west, and,...   \n",
       "283                 2  [yemeni, government, troops, and, allies, from...   \n",
       "2677                4  [whats, going, on, in, syria, is, a, miniworld...   \n",
       "1596                5  [an, israeli, army, spokesperson, declined, to...   \n",
       "421                 2  [the, orders, are, expected, to, include, rest...   \n",
       "...               ...                                                ...   \n",
       "193                 2  [while, we, continue, to, monitor, the, terrib...   \n",
       "1847                0  [in, an, interview, with, al, jazeera, last, m...   \n",
       "1303                5  [we, wish, it, hadnt, happened, but, it, happe...   \n",
       "2602                4  [the, experts, from, the, thomson, reuters, fo...   \n",
       "2567                4  [they, get, less, than, 4, hours, of, electric...   \n",
       "\n",
       "                                          refinedTokens  \n",
       "2160  [since, jarablus, headed, west, managed, take,...  \n",
       "283   [yemeni, government, troops, allies, saudiled,...  \n",
       "2677  [whats, going, syria, miniworld, war, people, ...  \n",
       "1596  [israeli, army, spokesperson, declined, discus...  \n",
       "421   [orders, expected, include, restrictions, refu...  \n",
       "...                                                 ...  \n",
       "193   [continue, monitor, terrible, situation, clear...  \n",
       "1847  [interview, al, jazeera, last, month, moroccan...  \n",
       "1303  [wish, hadnt, happened, happened, hope, someth...  \n",
       "2602  [experts, thomson, reuters, foundation, ranked...  \n",
       "2567            [get, less, 4, hours, electricity, day]  \n",
       "\n",
       "[3026 rows x 6 columns]"
      ],
      "text/html": "<div>\n<style scoped>\n    .dataframe tbody tr th:only-of-type {\n        vertical-align: middle;\n    }\n\n    .dataframe tbody tr th {\n        vertical-align: top;\n    }\n\n    .dataframe thead th {\n        text-align: right;\n    }\n</style>\n<table border=\"1\" class=\"dataframe\">\n  <thead>\n    <tr style=\"text-align: right;\">\n      <th></th>\n      <th>Headline</th>\n      <th>Galtung's Criteria</th>\n      <th>Class</th>\n      <th>Galtung Encoded</th>\n      <th>tokenizedHeadline</th>\n      <th>refinedTokens</th>\n    </tr>\n  </thead>\n  <tbody>\n    <tr>\n      <th>2160</th>\n      <td>Since Jarablus we have headed west and managed...</td>\n      <td>Focus on invisible effects of violence (trauma...</td>\n      <td>0</td>\n      <td>3</td>\n      <td>[since, jarablus, we, have, headed, west, and,...</td>\n      <td>[since, jarablus, headed, west, managed, take,...</td>\n    </tr>\n    <tr>\n      <th>283</th>\n      <td>Yemeni government troops and allies from a Sau...</td>\n      <td>Focus on conflict arena, 2 parties,  1 goal (w...</td>\n      <td>1</td>\n      <td>2</td>\n      <td>[yemeni, government, troops, and, allies, from...</td>\n      <td>[yemeni, government, troops, allies, saudiled,...</td>\n    </tr>\n    <tr>\n      <th>2677</th>\n      <td>Whats going on in Syria is a miniworld war Wha...</td>\n      <td>Focus on suffering all over. On aged children,...</td>\n      <td>0</td>\n      <td>4</td>\n      <td>[whats, going, on, in, syria, is, a, miniworld...</td>\n      <td>[whats, going, syria, miniworld, war, people, ...</td>\n    </tr>\n    <tr>\n      <th>1596</th>\n      <td>An Israeli army spokesperson declined to discu...</td>\n      <td>Focus only on visible effect of violence (kill...</td>\n      <td>1</td>\n      <td>5</td>\n      <td>[an, israeli, army, spokesperson, declined, to...</td>\n      <td>[israeli, army, spokesperson, declined, discus...</td>\n    </tr>\n    <tr>\n      <th>421</th>\n      <td>The orders are expected to include restriction...</td>\n      <td>Focus on conflict arena, 2 parties,  1 goal (w...</td>\n      <td>1</td>\n      <td>2</td>\n      <td>[the, orders, are, expected, to, include, rest...</td>\n      <td>[orders, expected, include, restrictions, refu...</td>\n    </tr>\n    <tr>\n      <th>...</th>\n      <td>...</td>\n      <td>...</td>\n      <td>...</td>\n      <td>...</td>\n      <td>...</td>\n      <td>...</td>\n    </tr>\n    <tr>\n      <th>193</th>\n      <td>While we continue to monitor the terrible situ...</td>\n      <td>Focus on conflict arena, 2 parties,  1 goal (w...</td>\n      <td>1</td>\n      <td>2</td>\n      <td>[while, we, continue, to, monitor, the, terrib...</td>\n      <td>[continue, monitor, terrible, situation, clear...</td>\n    </tr>\n    <tr>\n      <th>1847</th>\n      <td>In an interview with Al Jazeera last month Mor...</td>\n      <td>Explore conflict formation, x parties, y goals...</td>\n      <td>0</td>\n      <td>0</td>\n      <td>[in, an, interview, with, al, jazeera, last, m...</td>\n      <td>[interview, al, jazeera, last, month, moroccan...</td>\n    </tr>\n    <tr>\n      <th>1303</th>\n      <td>We wish it hadnt happened but it happened I ho...</td>\n      <td>Focus only on visible effect of violence (kill...</td>\n      <td>1</td>\n      <td>5</td>\n      <td>[we, wish, it, hadnt, happened, but, it, happe...</td>\n      <td>[wish, hadnt, happened, happened, hope, someth...</td>\n    </tr>\n    <tr>\n      <th>2602</th>\n      <td>The experts from the Thomson Reuters Foundatio...</td>\n      <td>Focus on suffering all over. On aged children,...</td>\n      <td>0</td>\n      <td>4</td>\n      <td>[the, experts, from, the, thomson, reuters, fo...</td>\n      <td>[experts, thomson, reuters, foundation, ranked...</td>\n    </tr>\n    <tr>\n      <th>2567</th>\n      <td>They get less than 4 hours of electricity a day</td>\n      <td>Focus on suffering all over. On aged children,...</td>\n      <td>0</td>\n      <td>4</td>\n      <td>[they, get, less, than, 4, hours, of, electric...</td>\n      <td>[get, less, 4, hours, electricity, day]</td>\n    </tr>\n  </tbody>\n</table>\n<p>3026 rows × 6 columns</p>\n</div>"
     },
     "metadata": {},
     "execution_count": 10
    }
   ],
   "source": [
    "#Removing Stopwords\n",
    "stopwords = nltk.corpus.stopwords.words('english')\n",
    "def removeStopwords(tokenizedHeadline):\n",
    "    cleanedNews = [word for word in tokenizedHeadline if word not in stopwords]\n",
    "    return cleanedNews\n",
    "df['refinedTokens'] = df['tokenizedHeadline'].apply(lambda news: removeStopwords(news))\n",
    "df"
   ]
  },
  {
   "cell_type": "code",
   "execution_count": 11,
   "metadata": {},
   "outputs": [],
   "source": [
    "#Stemming\n",
    "#def stemmer(refinedTokens):\n",
    "#    ps = PorterStemmer()\n",
    "#    stemmedWord = [ps.stem(word) for word in refinedTokens]\n",
    "#    return stemmedWord\n",
    "#df['stemmedTokens'] = df['refinedTokens'].apply(lambda word: stemmer(word))\n",
    "#df"
   ]
  },
  {
   "cell_type": "code",
   "execution_count": 11,
   "metadata": {},
   "outputs": [
    {
     "output_type": "execute_result",
     "data": {
      "text/plain": [
       "                                               Headline  \\\n",
       "2160  Since Jarablus we have headed west and managed...   \n",
       "283   Yemeni government troops and allies from a Sau...   \n",
       "2677  Whats going on in Syria is a miniworld war Wha...   \n",
       "1596  An Israeli army spokesperson declined to discu...   \n",
       "421   The orders are expected to include restriction...   \n",
       "...                                                 ...   \n",
       "193   While we continue to monitor the terrible situ...   \n",
       "1847  In an interview with Al Jazeera last month Mor...   \n",
       "1303  We wish it hadnt happened but it happened I ho...   \n",
       "2602  The experts from the Thomson Reuters Foundatio...   \n",
       "2567    They get less than 4 hours of electricity a day   \n",
       "\n",
       "                                     Galtung's Criteria  Class  \\\n",
       "2160  Focus on invisible effects of violence (trauma...      0   \n",
       "283   Focus on conflict arena, 2 parties,  1 goal (w...      1   \n",
       "2677  Focus on suffering all over. On aged children,...      0   \n",
       "1596  Focus only on visible effect of violence (kill...      1   \n",
       "421   Focus on conflict arena, 2 parties,  1 goal (w...      1   \n",
       "...                                                 ...    ...   \n",
       "193   Focus on conflict arena, 2 parties,  1 goal (w...      1   \n",
       "1847  Explore conflict formation, x parties, y goals...      0   \n",
       "1303  Focus only on visible effect of violence (kill...      1   \n",
       "2602  Focus on suffering all over. On aged children,...      0   \n",
       "2567  Focus on suffering all over. On aged children,...      0   \n",
       "\n",
       "      Galtung Encoded                                  tokenizedHeadline  \\\n",
       "2160                3  [since, jarablus, we, have, headed, west, and,...   \n",
       "283                 2  [yemeni, government, troops, and, allies, from...   \n",
       "2677                4  [whats, going, on, in, syria, is, a, miniworld...   \n",
       "1596                5  [an, israeli, army, spokesperson, declined, to...   \n",
       "421                 2  [the, orders, are, expected, to, include, rest...   \n",
       "...               ...                                                ...   \n",
       "193                 2  [while, we, continue, to, monitor, the, terrib...   \n",
       "1847                0  [in, an, interview, with, al, jazeera, last, m...   \n",
       "1303                5  [we, wish, it, hadnt, happened, but, it, happe...   \n",
       "2602                4  [the, experts, from, the, thomson, reuters, fo...   \n",
       "2567                4  [they, get, less, than, 4, hours, of, electric...   \n",
       "\n",
       "                                          refinedTokens  \\\n",
       "2160  [since, jarablus, headed, west, managed, take,...   \n",
       "283   [yemeni, government, troops, allies, saudiled,...   \n",
       "2677  [whats, going, syria, miniworld, war, people, ...   \n",
       "1596  [israeli, army, spokesperson, declined, discus...   \n",
       "421   [orders, expected, include, restrictions, refu...   \n",
       "...                                                 ...   \n",
       "193   [continue, monitor, terrible, situation, clear...   \n",
       "1847  [interview, al, jazeera, last, month, moroccan...   \n",
       "1303  [wish, hadnt, happened, happened, hope, someth...   \n",
       "2602  [experts, thomson, reuters, foundation, ranked...   \n",
       "2567            [get, less, 4, hours, electricity, day]   \n",
       "\n",
       "                                        lemmatizedWords  \n",
       "2160  [since, jarablus, headed, west, managed, take,...  \n",
       "283   [yemeni, government, troop, ally, saudiled, co...  \n",
       "2677  [whats, going, syria, miniworld, war, people, ...  \n",
       "1596  [israeli, army, spokesperson, declined, discus...  \n",
       "421   [order, expected, include, restriction, refuge...  \n",
       "...                                                 ...  \n",
       "193   [continue, monitor, terrible, situation, clear...  \n",
       "1847  [interview, al, jazeera, last, month, moroccan...  \n",
       "1303  [wish, hadnt, happened, happened, hope, someth...  \n",
       "2602  [expert, thomson, reuters, foundation, ranked,...  \n",
       "2567               [get, le, 4, hour, electricity, day]  \n",
       "\n",
       "[3026 rows x 7 columns]"
      ],
      "text/html": "<div>\n<style scoped>\n    .dataframe tbody tr th:only-of-type {\n        vertical-align: middle;\n    }\n\n    .dataframe tbody tr th {\n        vertical-align: top;\n    }\n\n    .dataframe thead th {\n        text-align: right;\n    }\n</style>\n<table border=\"1\" class=\"dataframe\">\n  <thead>\n    <tr style=\"text-align: right;\">\n      <th></th>\n      <th>Headline</th>\n      <th>Galtung's Criteria</th>\n      <th>Class</th>\n      <th>Galtung Encoded</th>\n      <th>tokenizedHeadline</th>\n      <th>refinedTokens</th>\n      <th>lemmatizedWords</th>\n    </tr>\n  </thead>\n  <tbody>\n    <tr>\n      <th>2160</th>\n      <td>Since Jarablus we have headed west and managed...</td>\n      <td>Focus on invisible effects of violence (trauma...</td>\n      <td>0</td>\n      <td>3</td>\n      <td>[since, jarablus, we, have, headed, west, and,...</td>\n      <td>[since, jarablus, headed, west, managed, take,...</td>\n      <td>[since, jarablus, headed, west, managed, take,...</td>\n    </tr>\n    <tr>\n      <th>283</th>\n      <td>Yemeni government troops and allies from a Sau...</td>\n      <td>Focus on conflict arena, 2 parties,  1 goal (w...</td>\n      <td>1</td>\n      <td>2</td>\n      <td>[yemeni, government, troops, and, allies, from...</td>\n      <td>[yemeni, government, troops, allies, saudiled,...</td>\n      <td>[yemeni, government, troop, ally, saudiled, co...</td>\n    </tr>\n    <tr>\n      <th>2677</th>\n      <td>Whats going on in Syria is a miniworld war Wha...</td>\n      <td>Focus on suffering all over. On aged children,...</td>\n      <td>0</td>\n      <td>4</td>\n      <td>[whats, going, on, in, syria, is, a, miniworld...</td>\n      <td>[whats, going, syria, miniworld, war, people, ...</td>\n      <td>[whats, going, syria, miniworld, war, people, ...</td>\n    </tr>\n    <tr>\n      <th>1596</th>\n      <td>An Israeli army spokesperson declined to discu...</td>\n      <td>Focus only on visible effect of violence (kill...</td>\n      <td>1</td>\n      <td>5</td>\n      <td>[an, israeli, army, spokesperson, declined, to...</td>\n      <td>[israeli, army, spokesperson, declined, discus...</td>\n      <td>[israeli, army, spokesperson, declined, discus...</td>\n    </tr>\n    <tr>\n      <th>421</th>\n      <td>The orders are expected to include restriction...</td>\n      <td>Focus on conflict arena, 2 parties,  1 goal (w...</td>\n      <td>1</td>\n      <td>2</td>\n      <td>[the, orders, are, expected, to, include, rest...</td>\n      <td>[orders, expected, include, restrictions, refu...</td>\n      <td>[order, expected, include, restriction, refuge...</td>\n    </tr>\n    <tr>\n      <th>...</th>\n      <td>...</td>\n      <td>...</td>\n      <td>...</td>\n      <td>...</td>\n      <td>...</td>\n      <td>...</td>\n      <td>...</td>\n    </tr>\n    <tr>\n      <th>193</th>\n      <td>While we continue to monitor the terrible situ...</td>\n      <td>Focus on conflict arena, 2 parties,  1 goal (w...</td>\n      <td>1</td>\n      <td>2</td>\n      <td>[while, we, continue, to, monitor, the, terrib...</td>\n      <td>[continue, monitor, terrible, situation, clear...</td>\n      <td>[continue, monitor, terrible, situation, clear...</td>\n    </tr>\n    <tr>\n      <th>1847</th>\n      <td>In an interview with Al Jazeera last month Mor...</td>\n      <td>Explore conflict formation, x parties, y goals...</td>\n      <td>0</td>\n      <td>0</td>\n      <td>[in, an, interview, with, al, jazeera, last, m...</td>\n      <td>[interview, al, jazeera, last, month, moroccan...</td>\n      <td>[interview, al, jazeera, last, month, moroccan...</td>\n    </tr>\n    <tr>\n      <th>1303</th>\n      <td>We wish it hadnt happened but it happened I ho...</td>\n      <td>Focus only on visible effect of violence (kill...</td>\n      <td>1</td>\n      <td>5</td>\n      <td>[we, wish, it, hadnt, happened, but, it, happe...</td>\n      <td>[wish, hadnt, happened, happened, hope, someth...</td>\n      <td>[wish, hadnt, happened, happened, hope, someth...</td>\n    </tr>\n    <tr>\n      <th>2602</th>\n      <td>The experts from the Thomson Reuters Foundatio...</td>\n      <td>Focus on suffering all over. On aged children,...</td>\n      <td>0</td>\n      <td>4</td>\n      <td>[the, experts, from, the, thomson, reuters, fo...</td>\n      <td>[experts, thomson, reuters, foundation, ranked...</td>\n      <td>[expert, thomson, reuters, foundation, ranked,...</td>\n    </tr>\n    <tr>\n      <th>2567</th>\n      <td>They get less than 4 hours of electricity a day</td>\n      <td>Focus on suffering all over. On aged children,...</td>\n      <td>0</td>\n      <td>4</td>\n      <td>[they, get, less, than, 4, hours, of, electric...</td>\n      <td>[get, less, 4, hours, electricity, day]</td>\n      <td>[get, le, 4, hour, electricity, day]</td>\n    </tr>\n  </tbody>\n</table>\n<p>3026 rows × 7 columns</p>\n</div>"
     },
     "metadata": {},
     "execution_count": 11
    }
   ],
   "source": [
    "#Lemmatization\n",
    "def lemmatizer(refinedTokens):\n",
    "    wn = nltk.WordNetLemmatizer()\n",
    "    lemmatizedWords =  [wn.lemmatize(word) for word in refinedTokens]\n",
    "    return lemmatizedWords\n",
    "df['lemmatizedWords'] = df['refinedTokens'].apply(lambda word: lemmatizer(word))\n",
    "df"
   ]
  },
  {
   "cell_type": "code",
   "execution_count": 12,
   "metadata": {},
   "outputs": [
    {
     "output_type": "stream",
     "name": "stdout",
     "text": [
      "<bound method _cs_matrix.toarray of <3026x7437 sparse matrix of type '<class 'numpy.int64'>'\n\twith 45127 stored elements in Compressed Sparse Row format>>\n"
     ]
    }
   ],
   "source": [
    "#Vectorization\n",
    "cv = CountVectorizer(analyzer=lemmatizer)\n",
    "vectors = cv.fit_transform(df['lemmatizedWords']).toarray\n",
    "print(vectors)"
   ]
  }
 ],
 "metadata": {
  "kernelspec": {
   "name": "python382jvsc74a57bd0197232bb6889b5f94c91503e8321c072609a93f44d2a73665af4679d66bafe71",
   "display_name": "Python 3.8.2 64-bit"
  },
  "language_info": {
   "codemirror_mode": {
    "name": "ipython",
    "version": 3
   },
   "file_extension": ".py",
   "mimetype": "text/x-python",
   "name": "python",
   "nbconvert_exporter": "python",
   "pygments_lexer": "ipython3",
   "version": "3.8.2"
  }
 },
 "nbformat": 4,
 "nbformat_minor": 4
}